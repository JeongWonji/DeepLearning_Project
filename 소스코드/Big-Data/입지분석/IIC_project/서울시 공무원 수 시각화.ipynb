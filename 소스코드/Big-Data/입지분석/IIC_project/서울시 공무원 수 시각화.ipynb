{
 "cells": [
  {
   "cell_type": "code",
   "execution_count": null,
   "id": "edf47cf5",
   "metadata": {},
   "outputs": [],
   "source": [
    "import pandas as pd\n",
    "import numpy as np\n",
    "import matplotlib.pyplot as plt\n",
    "import seaborn as sns"
   ]
  },
  {
   "cell_type": "code",
   "execution_count": null,
   "id": "94e7609d",
   "metadata": {},
   "outputs": [],
   "source": [
    "df = pd.read_excel('data/서울시 공무원 수.xls')\n",
    "df"
   ]
  },
  {
   "cell_type": "code",
   "execution_count": null,
   "id": "21242386",
   "metadata": {},
   "outputs": [],
   "source": [
    "import matplotlib\n",
    "import matplotlib.font_manager as fm\n",
    "fm.get_fontconfig_fonts()\n",
    "# font_location = '/usr/share/fonts/truetype/nanum/NanumGothicOTF.ttf'\n",
    "font_location = r'C:\\Users\\Jo\\PYDATAexam\\font\\malgun.ttf' # For Windows\n",
    "font_name = fm.FontProperties(fname=font_location).get_name()\n",
    "matplotlib.rc('font', family=font_name)"
   ]
  },
  {
   "cell_type": "code",
   "execution_count": null,
   "id": "661fe2c5",
   "metadata": {},
   "outputs": [],
   "source": [
    "df['합계'].mean()"
   ]
  },
  {
   "cell_type": "code",
   "execution_count": null,
   "id": "61a93239",
   "metadata": {},
   "outputs": [],
   "source": [
    "df.sort_values('합계',ascending=False).plot.bar(x='자치구',y='합계',figsize=(10,7.5),color='royalblue')\n",
    "plt.axhline(y=1460.96, color='r', linewidth=1)\n",
    "plt.text(27,1460.96,'평균 공무원 수', fontsize=13, va='center', ha='center', backgroundcolor='w',color='r')\n",
    "plt.ylim([100, 2000])\n",
    "plt.xticks(fontsize=16)\n",
    "plt.yticks(fontsize=16)"
   ]
  }
 ],
 "metadata": {
  "kernelspec": {
   "display_name": "Python 3 (ipykernel)",
   "language": "python",
   "name": "python3"
  },
  "language_info": {
   "codemirror_mode": {
    "name": "ipython",
    "version": 3
   },
   "file_extension": ".py",
   "mimetype": "text/x-python",
   "name": "python",
   "nbconvert_exporter": "python",
   "pygments_lexer": "ipython3",
   "version": "3.9.7"
  }
 },
 "nbformat": 4,
 "nbformat_minor": 5
}
