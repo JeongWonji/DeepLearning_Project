{
 "cells": [
  {
   "cell_type": "code",
   "execution_count": null,
   "id": "0b38a384",
   "metadata": {},
   "outputs": [],
   "source": [
    "import matplotlib\n",
    "import matplotlib.font_manager as fm\n",
    "import pandas as pd\n",
    "import numpy as np\n",
    "import seaborn as sns\n",
    "import matplotlib.pyplot as plt\n",
    "\n",
    "fm.get_fontconfig_fonts()\n",
    "# font_location = '/usr/share/fonts/truetype/nanum/NanumGothicOTF.ttf'\n",
    "font_location = r'C:\\Users\\Jo\\PYDATAexam\\font\\malgun.ttf' # For Windows\n",
    "font_name = fm.FontProperties(fname=font_location).get_name()\n",
    "matplotlib.rc('font', family=font_name)"
   ]
  },
  {
   "cell_type": "code",
   "execution_count": null,
   "id": "bfe24013",
   "metadata": {},
   "outputs": [],
   "source": [
    "import re \n",
    "\n",
    "df = pd.read_excel(\"data/서울 열린데이터 광장/서울시 사업체 및 종사자 밀도 (구별)통계.xls\")\n",
    "work_df = df[['자치구','종사자밀도(A)']]\n",
    "work_df.columns = ['자치구','종사자밀도']"
   ]
  },
  {
   "cell_type": "code",
   "execution_count": null,
   "id": "7ecc2a9f",
   "metadata": {},
   "outputs": [],
   "source": [
    "\n",
    "work_df.sort_values('종사자밀도',ascending=False).plot.bar(x='자치구',y='종사자밀도',figsize=(10,7.5),color='royalblue')\n",
    "plt.axhline(y=9430.64, color='r', linewidth=1)\n",
    "plt.text(27.5,9430.64, '평균 종사자 밀도', fontsize=13, va='center', ha='center', backgroundcolor='w',color='r')\n",
    "plt.xticks(fontsize=16)\n",
    "plt.yticks(fontsize=16)"
   ]
  },
  {
   "cell_type": "code",
   "execution_count": null,
   "id": "e7727cd6",
   "metadata": {},
   "outputs": [],
   "source": [
    "work_df['종사자밀도'].mean()"
   ]
  },
  {
   "cell_type": "code",
   "execution_count": null,
   "id": "74e181ec",
   "metadata": {},
   "outputs": [],
   "source": [
    "workplace_df = df[['자치구','사업체밀도']]\n",
    "workplace_df.head()"
   ]
  },
  {
   "cell_type": "code",
   "execution_count": null,
   "id": "07690151",
   "metadata": {},
   "outputs": [],
   "source": [
    "import json\n",
    "geo_path = 'seoul.geojson'\n",
    "geo_str = json.load(open(geo_path, encoding='utf-8'))"
   ]
  },
  {
   "cell_type": "code",
   "execution_count": null,
   "id": "71a5779d",
   "metadata": {},
   "outputs": [],
   "source": [
    "import folium\n",
    "\n",
    "map = folium.Map(location=[37.5502, 126.982], zoom_start=11,tiles='cartodbpositron')\n",
    "fmap=folium.Choropleth(geo_data = geo_str,\n",
    "               data = workplace_df,\n",
    "               columns = ['자치구', '사업체밀도'],\n",
    "               fill_color = 'YlGn',\n",
    "               key_on='feature.properties.name').add_to(map)\n",
    "fmap.geojson.zoom_on_click = False\n",
    "fmap.geojson.add_child(\n",
    "    folium.features.GeoJsonTooltip(['name'],labels=False)\n",
    ")\n",
    "display(map)"
   ]
  },
  {
   "cell_type": "code",
   "execution_count": null,
   "id": "c63761bf",
   "metadata": {},
   "outputs": [],
   "source": [
    "import re \n",
    "\n",
    "df = pd.read_excel(\"data/서울 열린데이터 광장/서울시 인구밀도 (구별) 통계.xls\")\n",
    "person_df = df[['지역','인구밀도']]\n",
    "person_df.head()"
   ]
  },
  {
   "cell_type": "code",
   "execution_count": null,
   "id": "0b50ffc6",
   "metadata": {},
   "outputs": [],
   "source": [
    "person_df['인구밀도'].mean()"
   ]
  },
  {
   "cell_type": "code",
   "execution_count": null,
   "id": "454d8ea1",
   "metadata": {},
   "outputs": [],
   "source": [
    "\n",
    "person_df.sort_values('인구밀도',ascending=False).plot.bar(x='지역',y='인구밀도',figsize=(10,7.5),color='royalblue')\n",
    "plt.axhline(y=16921.88, color='r', linewidth=1)\n",
    "plt.text(27.5,16921.88, '평균 인구 밀도', fontsize=13, va='center', ha='center', backgroundcolor='w',color='r')\n",
    "plt.xticks(fontsize=16)\n",
    "plt.yticks(fontsize=16)"
   ]
  }
 ],
 "metadata": {
  "kernelspec": {
   "display_name": "Python 3 (ipykernel)",
   "language": "python",
   "name": "python3"
  },
  "language_info": {
   "codemirror_mode": {
    "name": "ipython",
    "version": 3
   },
   "file_extension": ".py",
   "mimetype": "text/x-python",
   "name": "python",
   "nbconvert_exporter": "python",
   "pygments_lexer": "ipython3",
   "version": "3.9.7"
  }
 },
 "nbformat": 4,
 "nbformat_minor": 5
}
