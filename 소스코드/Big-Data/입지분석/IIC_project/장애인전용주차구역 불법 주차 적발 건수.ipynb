{
 "cells": [
  {
   "cell_type": "code",
   "execution_count": null,
   "id": "70798546-d2b2-44e4-8965-7262c609d3cd",
   "metadata": {},
   "outputs": [],
   "source": [
    "import matplotlib\n",
    "import matplotlib.font_manager as fm\n",
    "import pandas as pd\n",
    "import numpy as np\n",
    "import seaborn as sns\n",
    "import matplotlib.pyplot as plt\n",
    "\n",
    "fm.get_fontconfig_fonts()\n",
    "# font_location = '/usr/share/fonts/truetype/nanum/NanumGothicOTF.ttf'\n",
    "font_location = r'C:\\Users\\Jo\\PYDATAexam\\font\\malgun.ttf' # For Windows\n",
    "font_name = fm.FontProperties(fname=font_location).get_name()\n",
    "matplotlib.rc('font', family=font_name)\n",
    "\n",
    "dic = {\n",
    "    '2015년':[152856],\n",
    "    '2016년':[262068],\n",
    "    '2017년':[328237],\n",
    "    '2018년':[414409],\n",
    "    '2019년':[601513],\n",
    "}"
   ]
  },
  {
   "cell_type": "code",
   "execution_count": null,
   "id": "6f337b37-9371-4579-aeb5-8dfe16b5a24c",
   "metadata": {},
   "outputs": [],
   "source": [
    "df_1 = pd.DataFrame(data=dic)\n",
    "df_1 = df_1.T"
   ]
  },
  {
   "cell_type": "code",
   "execution_count": null,
   "id": "bf11ba3f-ff91-4aaa-8acb-30f39d83f7d8",
   "metadata": {},
   "outputs": [],
   "source": [
    "df_1.columns = ['적발건수']"
   ]
  },
  {
   "cell_type": "code",
   "execution_count": null,
   "id": "e33a3f00-e8f2-4512-aefe-00f6b7f69467",
   "metadata": {},
   "outputs": [],
   "source": [
    "plt.figure(figsize=(14,10))\n",
    "plt.plot(df_1.index,df_1.values,color='red',marker='o',markersize=15)\n",
    "plt.yticks(fontsize=20)\n",
    "plt.xticks(fontsize=20)\n",
    "plt.title('장애인전용주차구역 불법주차 적발 건수',size=20)"
   ]
  },
  {
   "cell_type": "code",
   "execution_count": null,
   "id": "2cc04e10-e7f4-45ba-8570-996aa281f1c3",
   "metadata": {},
   "outputs": [],
   "source": [
    "dic = {\n",
    "    '2015년':[13643],\n",
    "    '2016년':[23818],\n",
    "    '2017년':[29612],\n",
    "    '2018년':[36592],\n",
    "    '2019년':[44614],\n",
    "}"
   ]
  },
  {
   "cell_type": "code",
   "execution_count": null,
   "id": "629cf172-c9b7-4e3d-9fbd-4f8da615d1c8",
   "metadata": {},
   "outputs": [],
   "source": [
    "df_2 = pd.DataFrame(data=dic)\n",
    "df_2 = df_2.T"
   ]
  },
  {
   "cell_type": "code",
   "execution_count": null,
   "id": "4337c730-52aa-4070-9d8a-6affe6ceac0d",
   "metadata": {},
   "outputs": [],
   "source": [
    "df_2.columns = ['과태료']"
   ]
  },
  {
   "cell_type": "code",
   "execution_count": null,
   "id": "cd3764a6-63cc-483e-87ae-110c87e0b90b",
   "metadata": {},
   "outputs": [],
   "source": [
    "plt.figure(figsize=(14,10))\n",
    "plt.plot(df_2.index,df_2.values,color='blue',marker='o',markersize=15)\n",
    "plt.title('장애인전용주차구역 불법주차 과태료(단위:백만원)',size=20)"
   ]
  }
 ],
 "metadata": {
  "kernelspec": {
   "display_name": "pydatavenv",
   "language": "python",
   "name": "pydatavenv"
  },
  "language_info": {
   "codemirror_mode": {
    "name": "ipython",
    "version": 3
   },
   "file_extension": ".py",
   "mimetype": "text/x-python",
   "name": "python",
   "nbconvert_exporter": "python",
   "pygments_lexer": "ipython3",
   "version": "3.9.12"
  }
 },
 "nbformat": 4,
 "nbformat_minor": 5
}
