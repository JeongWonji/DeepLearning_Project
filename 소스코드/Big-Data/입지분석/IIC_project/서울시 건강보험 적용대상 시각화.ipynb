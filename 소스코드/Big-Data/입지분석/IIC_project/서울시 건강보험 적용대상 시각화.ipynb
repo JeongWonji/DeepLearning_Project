{
 "cells": [
  {
   "cell_type": "code",
   "execution_count": null,
   "id": "772a5bda-410a-42a7-b55d-512466b96e2f",
   "metadata": {},
   "outputs": [],
   "source": [
    "import matplotlib\n",
    "import matplotlib.font_manager as fm\n",
    "import pandas as pd\n",
    "import numpy as np\n",
    "import seaborn as sns\n",
    "import matplotlib.pyplot as plt\n",
    "\n",
    "fm.get_fontconfig_fonts()\n",
    "# font_location = '/usr/share/fonts/truetype/nanum/NanumGothicOTF.ttf'\n",
    "font_location = r'C:\\Users\\Jo\\PYDATAexam\\font\\malgun.ttf' # For Windows\n",
    "font_name = fm.FontProperties(fname=font_location).get_name()\n",
    "matplotlib.rc('font', family=font_name)"
   ]
  },
  {
   "cell_type": "code",
   "execution_count": null,
   "id": "fbc22698-3cfa-4a29-bbb9-e944232d903e",
   "metadata": {},
   "outputs": [],
   "source": [
    "df = pd.read_excel(\"data/서울시 건강보험 적용대상(구별).xls\")\n",
    "\n",
    "df.sort_values('소계',ascending=False).plot.bar(x='자치구',y='소계',figsize=(10,7.5),color='royalblue')\n",
    "plt.axhline(y=384083.52, color='r', linewidth=1)\n",
    "plt.text(26.5,384083.52, '직장인수', fontsize=13, va='center', ha='center', backgroundcolor='w',color='r')\n",
    "plt.xticks(fontsize=16)\n",
    "plt.yticks(fontsize=16)"
   ]
  },
  {
   "cell_type": "code",
   "execution_count": null,
   "id": "29f47ca3-7dc9-40e9-9352-b67d15594180",
   "metadata": {},
   "outputs": [],
   "source": [
    "df['소계'].mean()"
   ]
  }
 ],
 "metadata": {
  "kernelspec": {
   "display_name": "pydatavenv",
   "language": "python",
   "name": "pydatavenv"
  },
  "language_info": {
   "codemirror_mode": {
    "name": "ipython",
    "version": 3
   },
   "file_extension": ".py",
   "mimetype": "text/x-python",
   "name": "python",
   "nbconvert_exporter": "python",
   "pygments_lexer": "ipython3",
   "version": "3.9.12"
  }
 },
 "nbformat": 4,
 "nbformat_minor": 5
}
