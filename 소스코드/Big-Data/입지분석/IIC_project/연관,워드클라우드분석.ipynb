{
 "cells": [
  {
   "cell_type": "code",
   "execution_count": null,
   "id": "020f6728-3c26-4e13-b13e-cff211057114",
   "metadata": {},
   "outputs": [],
   "source": [
    "from konlpy.tag import Kkma\n",
    "from konlpy.utils import pprint\n",
    "import pandas as pd\n",
    "import numpy as np "
   ]
  },
  {
   "cell_type": "code",
   "execution_count": null,
   "id": "ab9c17bc-8248-42e8-ab8b-2ef1ad325977",
   "metadata": {},
   "outputs": [],
   "source": [
    "kkma = Kkma()"
   ]
  },
  {
   "cell_type": "code",
   "execution_count": null,
   "id": "578c1bec-0661-46a6-8bb1-8b8bc25d59d9",
   "metadata": {},
   "outputs": [],
   "source": [
    "from matplotlib import font_manager, rc\n",
    "font_path = r\"C:\\Users\\Jo\\PYDATAexam\\font\\malgun.ttf\"   #폰트파일의 위치\n",
    "font_name = font_manager.FontProperties(fname=font_path).get_name()\n",
    "rc('font', family=font_name)\n"
   ]
  },
  {
   "cell_type": "code",
   "execution_count": null,
   "id": "0540dd6e-3c49-458e-a1a6-628801b06230",
   "metadata": {},
   "outputs": [],
   "source": [
    "from wordcloud import WordCloud        ## 워드 클라우드 모듈을 사용한다 \n",
    "import matplotlib.pyplot as plt "
   ]
  },
  {
   "cell_type": "code",
   "execution_count": null,
   "id": "9e290d6b-4ef0-487b-9fd1-45a4e80d1d47",
   "metadata": {},
   "outputs": [],
   "source": [
    "myfontpath = r\"C:\\Users\\Jo\\PYDATAexam\\font\\malgun.ttf\""
   ]
  },
  {
   "cell_type": "code",
   "execution_count": null,
   "id": "98cdb49c-e6db-451c-98a1-e4ba266e5c36",
   "metadata": {},
   "outputs": [],
   "source": [
    "wc = WordCloud(                        ## 워드클라우드 객체를 만들때 한글로 출력되도록 객체를 만든다 \n",
    "    font_path = myfontpath,\n",
    "    width = 200,\n",
    "    height = 200\n",
    ")"
   ]
  },
  {
   "cell_type": "code",
   "execution_count": null,
   "id": "fdc5e189-6219-40af-8e99-b95da07c0bec",
   "metadata": {},
   "outputs": [],
   "source": [
    "df = pd.read_csv('naverCrawling.csv')\n",
    "df"
   ]
  },
  {
   "cell_type": "code",
   "execution_count": null,
   "id": "d29d6c90-8a59-4ee6-8744-92e9ae79864e",
   "metadata": {},
   "outputs": [],
   "source": [
    "df.drop(['Unnamed: 0'],axis=1,inplace=True)\n",
    "df.head()"
   ]
  },
  {
   "cell_type": "code",
   "execution_count": null,
   "id": "ed08246f-b543-46fc-bc1e-741dd7b8a6c7",
   "metadata": {},
   "outputs": [],
   "source": [
    "text1 = ' '.join(df['content'].dropna().tolist())\n",
    "text2 = ' '.join(df['title'].dropna().tolist())\n",
    "text = text1 + text2"
   ]
  },
  {
   "cell_type": "code",
   "execution_count": null,
   "id": "4e6f43a7-be31-484e-9f92-ebfa7e2e5ac8",
   "metadata": {},
   "outputs": [],
   "source": [
    "text"
   ]
  },
  {
   "cell_type": "code",
   "execution_count": null,
   "id": "2b1287f8-6b70-4a31-97c2-ba19d6bf45b8",
   "metadata": {},
   "outputs": [],
   "source": [
    "import nltk                     ## 자연어처리 모듈 "
   ]
  },
  {
   "cell_type": "code",
   "execution_count": null,
   "id": "3d196f26-b058-4610-b475-72e15c6436fc",
   "metadata": {},
   "outputs": [],
   "source": [
    "from konlpy.tag import Okt      \n",
    "t = Okt()\n",
    "tokens_ko = t.nouns(text)                ## 텍스트에서 명사를 추출한다. \n",
    "print(tokens_ko[:10])"
   ]
  },
  {
   "cell_type": "code",
   "execution_count": null,
   "id": "9e159e37-8d28-4f67-a7f1-3c239d629002",
   "metadata": {},
   "outputs": [],
   "source": [
    "nouns_text = nltk.Text(tokens_ko)       ## 명사로 추출한 것을 텍스트 객체로 만든다 \n",
    "nouns_text"
   ]
  },
  {
   "cell_type": "code",
   "execution_count": null,
   "id": "944cd833-56c1-480c-b8ea-36b34c73f142",
   "metadata": {},
   "outputs": [],
   "source": [
    "nouns_text.vocab()                    ## 동일한 단어의 발생 빈도를 확인한다. "
   ]
  },
  {
   "cell_type": "code",
   "execution_count": null,
   "id": "3f3b7775-a913-48bb-a92d-770b5db1224f",
   "metadata": {},
   "outputs": [],
   "source": [
    "data = nouns_text.vocab().most_common(150)  "
   ]
  },
  {
   "cell_type": "code",
   "execution_count": null,
   "id": "70f5ff54-8b8b-4a74-96fb-bd60abcdd984",
   "metadata": {},
   "outputs": [],
   "source": [
    "from wordcloud import WordCloud   \n",
    "wc = WordCloud(font_path=font_path,                                    ## .한글에 대한 위치를 표시한다. \n",
    "                      relative_scaling = 0.2,\n",
    "                      background_color='white',\n",
    "                      ).generate_from_frequencies(dict(data))             ## .단어별 빈도수를 딕셔너리로 변환해서 전달한다 \n",
    "plt.figure(figsize=(10,6))\n",
    "plt.imshow(wc)                                                      ## .이미지를 출력한다 \n",
    "plt.axis(\"off\")                                                            ## 그래프에 대한 축을 표시하지 않는다 \n",
    "plt.show()"
   ]
  },
  {
   "cell_type": "code",
   "execution_count": null,
   "id": "08696e89-a78a-411e-a1d4-e45b5c4d7215",
   "metadata": {},
   "outputs": [],
   "source": [
    "from mlxtend.frequent_patterns import apriori\n",
    "from mlxtend.frequent_patterns import association_rules\n",
    "from mlxtend.preprocessing import TransactionEncoder"
   ]
  },
  {
   "cell_type": "code",
   "execution_count": null,
   "id": "049efc48",
   "metadata": {},
   "outputs": [],
   "source": [
    "df.head()"
   ]
  },
  {
   "cell_type": "code",
   "execution_count": null,
   "id": "f3f06567",
   "metadata": {},
   "outputs": [],
   "source": [
    "df['all'] = df['title'] + df['content']"
   ]
  },
  {
   "cell_type": "code",
   "execution_count": null,
   "id": "2bd71088",
   "metadata": {},
   "outputs": [],
   "source": [
    "df['all']"
   ]
  },
  {
   "cell_type": "code",
   "execution_count": null,
   "id": "c1bc83f1",
   "metadata": {},
   "outputs": [],
   "source": [
    "ndf = df.dropna(axis=0)"
   ]
  },
  {
   "cell_type": "code",
   "execution_count": null,
   "id": "bf929d7c",
   "metadata": {},
   "outputs": [],
   "source": [
    "ndf.isnull().sum()"
   ]
  },
  {
   "cell_type": "code",
   "execution_count": null,
   "id": "f0688179",
   "metadata": {},
   "outputs": [],
   "source": [
    "from konlpy.tag import Okt      \n",
    "t = Okt()\n",
    "\n",
    "basket = []\n",
    "\n",
    "for text in ndf['all']:\n",
    "    basket.append(t.nouns(text))"
   ]
  },
  {
   "cell_type": "code",
   "execution_count": null,
   "id": "3cc3c6c4",
   "metadata": {},
   "outputs": [],
   "source": [
    "for i in basket:\n",
    "    for j in i:\n",
    "        if j ==  \"행위\":\n",
    "            i.remove(j)"
   ]
  },
  {
   "cell_type": "code",
   "execution_count": null,
   "id": "d5d21f64-bd5b-4d93-9438-3fd70394ce9f",
   "metadata": {},
   "outputs": [],
   "source": [
    "from mlxtend.preprocessing import TransactionEncoder\n",
    "from mlxtend.frequent_patterns import apriori, association_rules\n",
    "\n",
    "te = TransactionEncoder()\n",
    "te_ary = te.fit(basket).transform(basket)\n",
    "df = pd.DataFrame(te_ary, columns=te.columns_)"
   ]
  },
  {
   "cell_type": "code",
   "execution_count": null,
   "id": "39c9a261-f103-423f-9309-f4cb305a6d74",
   "metadata": {},
   "outputs": [],
   "source": [
    "frequent_itemsets = apriori(df, min_support=0.3, use_colnames=True)"
   ]
  },
  {
   "cell_type": "code",
   "execution_count": null,
   "id": "9e87d464-bba8-4eaa-96d0-6882bb3ecfbe",
   "metadata": {},
   "outputs": [],
   "source": [
    "association_rules(frequent_itemsets, metric=\"lift\", min_threshold=1).sort_values('lift',ascending=False).head(100)\n"
   ]
  }
 ],
 "metadata": {
  "kernelspec": {
   "display_name": "pydatavenv",
   "language": "python",
   "name": "pydatavenv"
  },
  "language_info": {
   "codemirror_mode": {
    "name": "ipython",
    "version": 3
   },
   "file_extension": ".py",
   "mimetype": "text/x-python",
   "name": "python",
   "nbconvert_exporter": "python",
   "pygments_lexer": "ipython3",
   "version": "3.9.12"
  }
 },
 "nbformat": 4,
 "nbformat_minor": 5
}
