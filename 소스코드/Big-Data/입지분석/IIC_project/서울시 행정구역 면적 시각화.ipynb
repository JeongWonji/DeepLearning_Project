{
 "cells": [
  {
   "cell_type": "code",
   "execution_count": null,
   "id": "9bda8815-769d-4160-b21b-f7fcdaf57162",
   "metadata": {},
   "outputs": [],
   "source": [
    "import matplotlib\n",
    "import matplotlib.font_manager as fm\n",
    "import pandas as pd\n",
    "import numpy as np\n",
    "import seaborn as sns\n",
    "import matplotlib.pyplot as plt\n",
    "\n",
    "fm.get_fontconfig_fonts()\n",
    "# font_location = '/usr/share/fonts/truetype/nanum/NanumGothicOTF.ttf'\n",
    "font_location = r'C:\\Users\\Jo\\PYDATAexam\\font\\malgun.ttf' # For Windows\n",
    "font_name = fm.FontProperties(fname=font_location).get_name()\n",
    "matplotlib.rc('font', family=font_name)"
   ]
  },
  {
   "cell_type": "code",
   "execution_count": null,
   "id": "26869d76-26fd-420a-84ef-4fa388c60954",
   "metadata": {},
   "outputs": [],
   "source": [
    "df = pd.read_excel(\"data/서울시 행정구역 면적(구별).xls\")\n",
    "\n",
    "df.sort_values('면적',ascending=False).plot.bar(x='자치구',y='면적',figsize=(10,7.5),color='royalblue')\n",
    "plt.axhline(y=24, color='r', linewidth=1)\n",
    "plt.text(25.5,24, '면적', fontsize=13, va='center', ha='center', backgroundcolor='w',color='r')\n",
    "plt.xticks(fontsize=16)\n",
    "plt.yticks(fontsize=16)"
   ]
  },
  {
   "cell_type": "code",
   "execution_count": null,
   "id": "25c6d2c1-f89a-492e-b879-af3966671d37",
   "metadata": {},
   "outputs": [],
   "source": [
    "df['면적'].mean()"
   ]
  }
 ],
 "metadata": {
  "kernelspec": {
   "display_name": "pydatavenv",
   "language": "python",
   "name": "pydatavenv"
  },
  "language_info": {
   "codemirror_mode": {
    "name": "ipython",
    "version": 3
   },
   "file_extension": ".py",
   "mimetype": "text/x-python",
   "name": "python",
   "nbconvert_exporter": "python",
   "pygments_lexer": "ipython3",
   "version": "3.9.12"
  }
 },
 "nbformat": 4,
 "nbformat_minor": 5
}
