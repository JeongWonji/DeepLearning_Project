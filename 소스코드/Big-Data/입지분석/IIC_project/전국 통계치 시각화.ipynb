{
 "cells": [
  {
   "cell_type": "code",
   "execution_count": null,
   "id": "0248ec1a",
   "metadata": {},
   "outputs": [],
   "source": [
    "import pandas as pd\n",
    "import numpy as np\n",
    "import matplotlib.pyplot as plt"
   ]
  },
  {
   "cell_type": "code",
   "execution_count": null,
   "id": "09a22633",
   "metadata": {},
   "outputs": [],
   "source": [
    "name = ['서울','부산','대구','인천','광주','대전','울산','세종','경기',\n",
    "       '강원','충북','충남','전북','전남','경북','경남','제주']\n",
    "carNum = [443966,126555,13596,62671,37760,34959,60017,8687,318169,62965,89203,\n",
    "         128467,101566,117733,185848,157589,26116]\n",
    "dic = {\n",
    "    '자치구':name,\n",
    "    '자동차 등록수':carNum\n",
    "}"
   ]
  },
  {
   "cell_type": "code",
   "execution_count": null,
   "id": "b55b1091",
   "metadata": {},
   "outputs": [],
   "source": [
    "df = pd.DataFrame(data = dic)\n",
    "df.head()"
   ]
  },
  {
   "cell_type": "code",
   "execution_count": null,
   "id": "243272cf",
   "metadata": {},
   "outputs": [],
   "source": [
    "import matplotlib\n",
    "import matplotlib.font_manager as fm\n",
    "fm.get_fontconfig_fonts()\n",
    "# font_location = '/usr/share/fonts/truetype/nanum/NanumGothicOTF.ttf'\n",
    "font_location = r'C:\\Users\\Jo\\PYDATAexam\\font\\malgun.ttf' # For Windows\n",
    "font_name = fm.FontProperties(fname=font_location).get_name()\n",
    "matplotlib.rc('font', family=font_name)"
   ]
  },
  {
   "cell_type": "code",
   "execution_count": null,
   "id": "de012d9c",
   "metadata": {},
   "outputs": [],
   "source": [
    "df['자동차 등록수'].mean()"
   ]
  },
  {
   "cell_type": "code",
   "execution_count": null,
   "id": "3f82e68f",
   "metadata": {},
   "outputs": [],
   "source": [
    "df.sort_values('자동차 등록수',ascending=False).plot.bar(x='자치구',y='자동차 등록수',figsize=(10,7.5),color='royalblue')\n",
    "plt.axhline(y=116227.4705882353, color='r', linewidth=1)\n",
    "plt.text(18.5, 116227.4705882353, '평균 자동차 등록 수', fontsize=13, va='center', ha='center', backgroundcolor='w',color='r')\n",
    "plt.title(\"시도별 자동차 등록수\",size=20)\n",
    "plt.xticks(fontsize=16)\n",
    "plt.yticks(fontsize=16)"
   ]
  },
  {
   "cell_type": "code",
   "execution_count": null,
   "id": "e9835286",
   "metadata": {},
   "outputs": [],
   "source": [
    "df_1 = pd.read_csv(\"data/시도별 면적.csv\")\n",
    "df_1 "
   ]
  },
  {
   "cell_type": "code",
   "execution_count": null,
   "id": "583e5d8e",
   "metadata": {},
   "outputs": [],
   "source": [
    "df_2 = pd.read_csv(\"data/시도별 장애인 수.csv\")\n",
    "df_2"
   ]
  },
  {
   "cell_type": "code",
   "execution_count": null,
   "id": "5bbe5c3f",
   "metadata": {},
   "outputs": [],
   "source": [
    "name = ['서울','부산','대구','인천','광주','대전','경기','울산','세종','강원','충북','충남','전북','전남','경북','경남','제주']"
   ]
  },
  {
   "cell_type": "code",
   "execution_count": null,
   "id": "250a436c",
   "metadata": {},
   "outputs": [],
   "source": [
    "series = df_2['장애인수'] / df_1['면적']\n",
    "\n",
    "dic = {\n",
    "    '시도별':name,\n",
    "    '면적대비장애인수':series\n",
    "}\n",
    "\n",
    "area_by_disable = series.sort_values(ascending=False)"
   ]
  },
  {
   "cell_type": "code",
   "execution_count": null,
   "id": "b46e49a2",
   "metadata": {},
   "outputs": [],
   "source": [
    "df = pd.DataFrame(data=dic)\n",
    "df.sort_values(by='면적대비장애인수',ascending=False,inplace=True)"
   ]
  },
  {
   "cell_type": "code",
   "execution_count": null,
   "id": "beacec17",
   "metadata": {},
   "outputs": [],
   "source": [
    "df['면적대비장애인수'].mean()"
   ]
  },
  {
   "cell_type": "code",
   "execution_count": null,
   "id": "273a091e",
   "metadata": {},
   "outputs": [],
   "source": [
    "df.sort_values('면적대비장애인수',ascending=False).plot.bar(x='시도별',y='면적대비장애인수',figsize=(10,7.5),color='royalblue')\n",
    "plt.axhline(y=98, color='r', linewidth=1)\n",
    "plt.text(18.7, 98, '평균 면적대비장애인수', fontsize=13, va='center', ha='center', backgroundcolor='w',color='r')\n",
    "plt.title(\"시도별 면적 대비 장애인 수\",size=20)\n",
    "plt.xticks(fontsize=16)\n",
    "plt.yticks(fontsize=16)"
   ]
  }
 ],
 "metadata": {
  "kernelspec": {
   "display_name": "Python 3 (ipykernel)",
   "language": "python",
   "name": "python3"
  },
  "language_info": {
   "codemirror_mode": {
    "name": "ipython",
    "version": 3
   },
   "file_extension": ".py",
   "mimetype": "text/x-python",
   "name": "python",
   "nbconvert_exporter": "python",
   "pygments_lexer": "ipython3",
   "version": "3.9.7"
  }
 },
 "nbformat": 4,
 "nbformat_minor": 5
}
