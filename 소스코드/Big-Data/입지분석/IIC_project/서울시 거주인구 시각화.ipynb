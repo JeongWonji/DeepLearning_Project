{
 "cells": [
  {
   "cell_type": "code",
   "execution_count": null,
   "id": "c41fdeb9-1808-40b1-81c2-b85f0fec7f80",
   "metadata": {},
   "outputs": [],
   "source": [
    "import matplotlib\n",
    "import matplotlib.font_manager as fm\n",
    "import pandas as pd\n",
    "import numpy as np\n",
    "import seaborn as sns\n",
    "import matplotlib.pyplot as plt\n",
    "\n",
    "fm.get_fontconfig_fonts()\n",
    "# font_location = '/usr/share/fonts/truetype/nanum/NanumGothicOTF.ttf'\n",
    "font_location = r'C:\\Users\\Jo\\PYDATAexam\\font\\malgun.ttf' # For Windows\n",
    "font_name = fm.FontProperties(fname=font_location).get_name()\n",
    "matplotlib.rc('font', family=font_name)"
   ]
  },
  {
   "cell_type": "code",
   "execution_count": null,
   "id": "edb5ce04-1784-495b-90e6-1bcd971e7ba8",
   "metadata": {},
   "outputs": [],
   "source": [
    "import re \n",
    "\n",
    "df = pd.read_csv(\"data/주민등록인구및세대현황(구별).csv\")\n",
    "\n",
    "df['2022년04월_총인구수'] = df['2022년04월_총인구수'].apply(lambda x: re.sub(',','',x))"
   ]
  },
  {
   "cell_type": "code",
   "execution_count": null,
   "id": "a40862db-abc7-40a0-a47f-4c138bfeb211",
   "metadata": {},
   "outputs": [],
   "source": [
    "df['2022년04월_총인구수'] = df['2022년04월_총인구수'].astype(int)"
   ]
  },
  {
   "cell_type": "code",
   "execution_count": null,
   "id": "49cc1dd8-3a10-4e7c-86e9-28f56f83a6cc",
   "metadata": {},
   "outputs": [],
   "source": [
    "\n",
    "df.sort_values('2022년04월_총인구수',ascending=False).plot.bar(x='자치구',y='2022년04월_총인구수',figsize=(10,7.5),color='royalblue')\n",
    "plt.axhline(y=380019.2, color='r', linewidth=1)\n",
    "plt.text(27.8,380019.2, '서울시 총 인구수 평균', fontsize=13, va='center', ha='center', backgroundcolor='w',color='r')\n",
    "plt.xticks(fontsize=16)\n",
    "plt.yticks(fontsize=16)"
   ]
  },
  {
   "cell_type": "code",
   "execution_count": null,
   "id": "b670415e-a0e4-43c2-9bc4-6d339ef54e80",
   "metadata": {},
   "outputs": [],
   "source": [
    "df['2022년04월_총인구수'].mean()"
   ]
  },
  {
   "cell_type": "code",
   "execution_count": null,
   "id": "a86f2d96-171a-41c3-b3b5-4c5da5461e38",
   "metadata": {},
   "outputs": [],
   "source": [
    "df"
   ]
  }
 ],
 "metadata": {
  "kernelspec": {
   "display_name": "pydatavenv",
   "language": "python",
   "name": "pydatavenv"
  },
  "language_info": {
   "codemirror_mode": {
    "name": "ipython",
    "version": 3
   },
   "file_extension": ".py",
   "mimetype": "text/x-python",
   "name": "python",
   "nbconvert_exporter": "python",
   "pygments_lexer": "ipython3",
   "version": "3.9.12"
  }
 },
 "nbformat": 4,
 "nbformat_minor": 5
}
