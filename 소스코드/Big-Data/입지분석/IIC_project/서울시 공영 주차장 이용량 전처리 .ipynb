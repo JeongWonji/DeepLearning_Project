{
 "cells": [
  {
   "cell_type": "code",
   "execution_count": null,
   "id": "6144701a",
   "metadata": {},
   "outputs": [],
   "source": [
    "import pandas as pd\n",
    "import numpy as np\n",
    "import matplotlib.pyplot as plt"
   ]
  },
  {
   "cell_type": "code",
   "execution_count": null,
   "id": "818794cd",
   "metadata": {},
   "outputs": [],
   "source": [
    "df = pd.read_csv(\"data/서울 열린데이터 광장/서울시설공단_공영주차장 일별 주차현황.csv\")\n",
    "df.head()"
   ]
  },
  {
   "cell_type": "code",
   "execution_count": null,
   "id": "283b7ecf",
   "metadata": {},
   "outputs": [],
   "source": [
    "df.groupby(\"주차장명\")['입차대수'].sum()"
   ]
  }
 ],
 "metadata": {
  "kernelspec": {
   "display_name": "Python 3 (ipykernel)",
   "language": "python",
   "name": "python3"
  },
  "language_info": {
   "codemirror_mode": {
    "name": "ipython",
    "version": 3
   },
   "file_extension": ".py",
   "mimetype": "text/x-python",
   "name": "python",
   "nbconvert_exporter": "python",
   "pygments_lexer": "ipython3",
   "version": "3.9.7"
  }
 },
 "nbformat": 4,
 "nbformat_minor": 5
}
