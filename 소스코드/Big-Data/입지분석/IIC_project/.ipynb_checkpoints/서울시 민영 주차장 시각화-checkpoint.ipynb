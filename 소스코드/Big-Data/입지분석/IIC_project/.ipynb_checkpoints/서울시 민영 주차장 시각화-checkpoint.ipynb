{
 "cells": [
  {
   "cell_type": "code",
   "execution_count": null,
   "id": "4f656ee2-01a0-4ca4-bd5c-a54e4157717c",
   "metadata": {},
   "outputs": [],
   "source": [
    "import json\n",
    "import folium\n",
    "import pandas as pd\n",
    "import matplotlib.pyplot as plt\n",
    "\n",
    "df = pd.read_excel('data/서울 열린데이터 광장/서울시 주차장 현황.xls')\n",
    "df"
   ]
  },
  {
   "cell_type": "code",
   "execution_count": null,
   "id": "a13b4332-20ba-4ce3-a49e-6729e2898086",
   "metadata": {},
   "outputs": [],
   "source": [
    "import matplotlib\n",
    "import matplotlib.font_manager as fm\n",
    "fm.get_fontconfig_fonts()\n",
    "# font_location = '/usr/share/fonts/truetype/nanum/NanumGothicOTF.ttf'\n",
    "font_location = r'C:\\Users\\Jo\\PYDATAexam\\font\\malgun.ttf' # For Windows\n",
    "font_name = fm.FontProperties(fname=font_location).get_name()\n",
    "matplotlib.rc('font', family=font_name)"
   ]
  },
  {
   "cell_type": "code",
   "execution_count": null,
   "id": "1983e05e-07e8-4699-98f8-d3d3bfdfe805",
   "metadata": {},
   "outputs": [],
   "source": [
    "geo_path = 'seoul.geojson'\n",
    "geo_str = json.load(open(geo_path, encoding='utf-8'))"
   ]
  },
  {
   "cell_type": "code",
   "execution_count": null,
   "id": "ee2f0e7e-4bdf-43f8-a365-0050b18161ff",
   "metadata": {},
   "outputs": [],
   "source": [
    "map = folium.Map(location=[37.5502, 126.982], zoom_start=11,tiles='cartodbpositron')\n",
    "fmap=folium.Choropleth(geo_data = geo_str,\n",
    "               data = df,\n",
    "               columns = ['자치구', '공영'],\n",
    "               fill_color = 'YIOrRd',\n",
    "               key_on='feature.properties.name').add_to(map)\n",
    "fmap.geojson.zoom_on_click = False\n",
    "fmap.geojson.add_child(\n",
    "    folium.features.GeoJsonTooltip(['name'],labels=False)\n",
    ")\n",
    "display(map)"
   ]
  }
 ],
 "metadata": {
  "kernelspec": {
   "display_name": "pydatavenv",
   "language": "python",
   "name": "pydatavenv"
  },
  "language_info": {
   "codemirror_mode": {
    "name": "ipython",
    "version": 3
   },
   "file_extension": ".py",
   "mimetype": "text/x-python",
   "name": "python",
   "nbconvert_exporter": "python",
   "pygments_lexer": "ipython3",
   "version": "3.9.12"
  }
 },
 "nbformat": 4,
 "nbformat_minor": 5
}
