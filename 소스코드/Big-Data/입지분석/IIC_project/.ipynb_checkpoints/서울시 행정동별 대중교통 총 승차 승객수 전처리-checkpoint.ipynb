{
 "cells": [
  {
   "cell_type": "code",
   "execution_count": null,
   "id": "3c106303",
   "metadata": {},
   "outputs": [],
   "source": [
    "import pandas as pd\n",
    "import numpy as np"
   ]
  },
  {
   "cell_type": "code",
   "execution_count": null,
   "id": "88015cf8",
   "metadata": {},
   "outputs": [],
   "source": [
    "df = pd.read_csv('data/동별/서울시 행정동별 대중교통 총 승차 승객수 정보.csv')\n",
    "df.head()"
   ]
  },
  {
   "cell_type": "code",
   "execution_count": null,
   "id": "05590788",
   "metadata": {},
   "outputs": [],
   "source": [
    "grouped_df = df.groupby(['행정동_ID'])\n",
    "\n",
    "id = []\n",
    "number = []\n",
    "\n",
    "for key,group in grouped_df:\n",
    "    print(\"key:\",key)\n",
    "    print(\"number:\",len(group))\n",
    "    print(\"sum:\",group['승객_수'].sum())\n",
    "    id.append(key)\n",
    "    number.append(group['승객_수'].sum())"
   ]
  },
  {
   "cell_type": "code",
   "execution_count": null,
   "id": "31cf0971",
   "metadata": {},
   "outputs": [],
   "source": [
    "dic = {'행정동ID':id,'승객수':number}\n",
    "result_df = pd.DataFrame(dic)"
   ]
  },
  {
   "cell_type": "code",
   "execution_count": null,
   "id": "51f28529",
   "metadata": {},
   "outputs": [],
   "source": [
    "result_df = result_df.astype(\"object\")\n",
    "result_df.info()\n",
    "result_df.head()"
   ]
  },
  {
   "cell_type": "code",
   "execution_count": null,
   "id": "18e2309f",
   "metadata": {},
   "outputs": [],
   "source": [
    "ndf = pd.read_excel(\"data/동별/행정동ID.xlsx\",header=None)\n",
    "ndf.columns = ['자치구','행정동ID','행정동']\n",
    "ndf.head()"
   ]
  },
  {
   "cell_type": "code",
   "execution_count": null,
   "id": "62904818",
   "metadata": {},
   "outputs": [],
   "source": [
    "ndf = ndf.astype('object')\n",
    "ndf.info()"
   ]
  },
  {
   "cell_type": "code",
   "execution_count": null,
   "id": "ef0e648d",
   "metadata": {},
   "outputs": [],
   "source": [
    "main_df = result_df.merge(ndf, how = 'left')"
   ]
  },
  {
   "cell_type": "code",
   "execution_count": null,
   "id": "949ebabe",
   "metadata": {},
   "outputs": [],
   "source": [
    "main_df = pd.read_csv(\"서울시 행정동별 대중교통 총 승차 승객수.csv\",encoding='cp949')\n",
    "main_df = main_df.groupby('자치구').sum()"
   ]
  },
  {
   "cell_type": "code",
   "execution_count": null,
   "id": "b1a11fe0",
   "metadata": {},
   "outputs": [],
   "source": [
    "main_df.head()"
   ]
  },
  {
   "cell_type": "code",
   "execution_count": null,
   "id": "4302c4fe",
   "metadata": {},
   "outputs": [],
   "source": [
    "main_df.drop('Unnamed: 0',axis=1,inplace=True)"
   ]
  },
  {
   "cell_type": "code",
   "execution_count": null,
   "id": "a8ed4abc",
   "metadata": {},
   "outputs": [],
   "source": [
    "main_df.to_csv(\"서울시 자치구별 대중교통 총 승차 승객수.csv\")"
   ]
  }
 ],
 "metadata": {
  "kernelspec": {
   "display_name": "Python 3 (ipykernel)",
   "language": "python",
   "name": "python3"
  },
  "language_info": {
   "codemirror_mode": {
    "name": "ipython",
    "version": 3
   },
   "file_extension": ".py",
   "mimetype": "text/x-python",
   "name": "python",
   "nbconvert_exporter": "python",
   "pygments_lexer": "ipython3",
   "version": "3.9.7"
  }
 },
 "nbformat": 4,
 "nbformat_minor": 5
}
