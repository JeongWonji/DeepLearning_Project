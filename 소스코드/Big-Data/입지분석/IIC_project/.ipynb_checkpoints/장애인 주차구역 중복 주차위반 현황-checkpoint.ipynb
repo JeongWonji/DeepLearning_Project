{
 "cells": [
  {
   "cell_type": "code",
   "execution_count": null,
   "id": "aa1dc258-343e-44ae-8e1e-539d61bd0d5d",
   "metadata": {},
   "outputs": [],
   "source": [
    "import matplotlib\n",
    "import matplotlib.font_manager as fm\n",
    "import pandas as pd\n",
    "import numpy as np\n",
    "import seaborn as sns\n",
    "import matplotlib.pyplot as plt\n",
    "\n",
    "fm.get_fontconfig_fonts()\n",
    "# font_location = '/usr/share/fonts/truetype/nanum/NanumGothicOTF.ttf'\n",
    "font_location = r'C:\\Users\\Jo\\PYDATAexam\\font\\malgun.ttf' # For Windows\n",
    "font_name = fm.FontProperties(fname=font_location).get_name()\n",
    "matplotlib.rc('font', family=font_name)"
   ]
  },
  {
   "cell_type": "code",
   "execution_count": null,
   "id": "fe2f3ae9-2138-40e9-99dd-7def1705c08d",
   "metadata": {},
   "outputs": [],
   "source": [
    "dic = {\n",
    "    '3회':[1516,3580,5497,8370,13756],\n",
    "    '4회':[653,1523,2283,3567,7128],\n",
    "    '5회':[287,729,1143,1842,4323],\n",
    "    '6회이상':[433,1230,1880,3225,5662]\n",
    "}\n",
    "\n",
    "df = pd.DataFrame(data=dic)\n",
    "df.index = ['2015','2016','2017','2018','2019']\n",
    "df"
   ]
  },
  {
   "cell_type": "code",
   "execution_count": null,
   "id": "127f4515-0ff2-4db9-8cc9-3715bbdeb8eb",
   "metadata": {},
   "outputs": [],
   "source": [
    "plt.figure(figsize=(14,5))\n",
    "plt.plot(df.index,df.values,marker='o',markersize=7)\n",
    "plt.title('연도별 3회 이상 장애인 주차구역 중복 위반 현황',size=25)\n",
    "plt.yticks(fontsize=20)\n",
    "plt.xticks(fontsize=20)\n",
    "plt.legend(labels=['3회','4회','5회','6회이상'])"
   ]
  }
 ],
 "metadata": {
  "kernelspec": {
   "display_name": "pydatavenv",
   "language": "python",
   "name": "pydatavenv"
  },
  "language_info": {
   "codemirror_mode": {
    "name": "ipython",
    "version": 3
   },
   "file_extension": ".py",
   "mimetype": "text/x-python",
   "name": "python",
   "nbconvert_exporter": "python",
   "pygments_lexer": "ipython3",
   "version": "3.9.12"
  }
 },
 "nbformat": 4,
 "nbformat_minor": 5
}
