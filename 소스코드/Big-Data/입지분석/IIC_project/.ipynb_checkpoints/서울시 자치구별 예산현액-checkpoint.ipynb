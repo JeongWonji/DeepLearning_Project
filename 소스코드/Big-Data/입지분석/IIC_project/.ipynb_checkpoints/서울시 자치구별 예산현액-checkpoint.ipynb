{
 "cells": [
  {
   "cell_type": "code",
   "execution_count": null,
   "id": "25599169",
   "metadata": {},
   "outputs": [],
   "source": [
    "import matplotlib\n",
    "import matplotlib.font_manager as fm\n",
    "import matplotlib.pyplot as plt\n",
    "import pandas as pd\n",
    "\n",
    "fm.get_fontconfig_fonts()\n",
    "# font_location = '/usr/share/fonts/truetype/nanum/NanumGothicOTF.ttf'\n",
    "font_location = r'C:\\Users\\Jo\\PYDATAexam\\font\\malgun.ttf' # For Windows\n",
    "font_name = fm.FontProperties(fname=font_location).get_name()\n",
    "matplotlib.rc('font', family=font_name)"
   ]
  },
  {
   "cell_type": "code",
   "execution_count": null,
   "id": "242c1e16",
   "metadata": {},
   "outputs": [],
   "source": [
    "money_df = pd.read_excel('data/서울시 예산결산총괄 통계.xls')\n",
    "money_df.head()"
   ]
  },
  {
   "cell_type": "code",
   "execution_count": null,
   "id": "46d8ff22",
   "metadata": {},
   "outputs": [],
   "source": [
    "money_df['예산현액'].mean()"
   ]
  },
  {
   "cell_type": "code",
   "execution_count": null,
   "id": "d0e97a7f",
   "metadata": {},
   "outputs": [],
   "source": [
    "\n",
    "money_df.sort_values('예산현액',ascending=False).plot.bar(x='자치구',y='예산현액',figsize=(10,7.5),color='royalblue')\n",
    "plt.axhline(y=1052493.04, color='r', linewidth=1)\n",
    "plt.text(26.5,1052493.04, '평균 예산현액', fontsize=13, va='center', ha='center', backgroundcolor='w',color='r')\n",
    "#plt.ylim([60, 90])\n",
    "plt.xticks(fontsize=16)\n",
    "plt.yticks(fontsize=16)"
   ]
  }
 ],
 "metadata": {
  "kernelspec": {
   "display_name": "Python 3 (ipykernel)",
   "language": "python",
   "name": "python3"
  },
  "language_info": {
   "codemirror_mode": {
    "name": "ipython",
    "version": 3
   },
   "file_extension": ".py",
   "mimetype": "text/x-python",
   "name": "python",
   "nbconvert_exporter": "python",
   "pygments_lexer": "ipython3",
   "version": "3.9.7"
  }
 },
 "nbformat": 4,
 "nbformat_minor": 5
}
