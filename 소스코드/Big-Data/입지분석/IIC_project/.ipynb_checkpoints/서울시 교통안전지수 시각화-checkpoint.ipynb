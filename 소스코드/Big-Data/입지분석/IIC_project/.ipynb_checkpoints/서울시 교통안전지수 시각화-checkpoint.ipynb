{
 "cells": [
  {
   "cell_type": "code",
   "execution_count": null,
   "id": "c17e7664-e8ea-4e82-9d9a-c0e91e7b2027",
   "metadata": {},
   "outputs": [],
   "source": [
    "import matplotlib\n",
    "import matplotlib.font_manager as fm\n",
    "fm.get_fontconfig_fonts()\n",
    "# font_location = '/usr/share/fonts/truetype/nanum/NanumGothicOTF.ttf'\n",
    "font_location = r'C:\\Users\\Jo\\PYDATAexam\\font\\malgun.ttf' # For Windows\n",
    "font_name = fm.FontProperties(fname=font_location).get_name()\n",
    "matplotlib.rc('font', family=font_name)"
   ]
  },
  {
   "cell_type": "code",
   "execution_count": null,
   "id": "52f15896-8016-450e-9c89-801880f3aa72",
   "metadata": {},
   "outputs": [],
   "source": [
    "import json\n",
    "import folium\n",
    "import pandas as pd\n",
    "import matplotlib.pyplot as plt"
   ]
  },
  {
   "cell_type": "code",
   "execution_count": null,
   "id": "762188be-9033-49f0-b47f-d568b837550d",
   "metadata": {},
   "outputs": [],
   "source": [
    "df['교통안전지수'].mean()"
   ]
  },
  {
   "cell_type": "code",
   "execution_count": null,
   "id": "e994efe1-067b-4dc3-b352-0f468ee14dd1",
   "metadata": {},
   "outputs": [],
   "source": [
    "df = pd.read_excel(\"data/서울 열린데이터 광장/서울시교통안전지수.xls\")\n",
    "\n",
    "df.sort_values('교통안전지수',ascending=False).plot.bar(x='자치구',y='교통안전지수',figsize=(10,7.5),color='royalblue')\n",
    "plt.axhline(y=78.32, color='r', linewidth=1)\n",
    "plt.text(26.5,78.32, '교통안전지수', fontsize=13, va='center', ha='center', backgroundcolor='w',color='r')\n",
    "plt.ylim([60, 90])\n",
    "plt.xticks(fontsize=16)\n",
    "plt.yticks(fontsize=16)"
   ]
  }
 ],
 "metadata": {
  "kernelspec": {
   "display_name": "pydatavenv",
   "language": "python",
   "name": "pydatavenv"
  },
  "language_info": {
   "codemirror_mode": {
    "name": "ipython",
    "version": 3
   },
   "file_extension": ".py",
   "mimetype": "text/x-python",
   "name": "python",
   "nbconvert_exporter": "python",
   "pygments_lexer": "ipython3",
   "version": "3.9.12"
  }
 },
 "nbformat": 4,
 "nbformat_minor": 5
}
