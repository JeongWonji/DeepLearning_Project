{
 "cells": [
  {
   "cell_type": "code",
   "execution_count": null,
   "id": "20574254",
   "metadata": {},
   "outputs": [],
   "source": [
    "import pandas as pd\n",
    "import numpy as np\n",
    "import matplotlib.pyplot as plt\n",
    "\n",
    "age_df= pd.read_excel(\"data/서울시 연령대.xls\")\n",
    "age_df.head()"
   ]
  },
  {
   "cell_type": "code",
   "execution_count": null,
   "id": "2e6957dc",
   "metadata": {},
   "outputs": [],
   "source": [
    "dic = {\"30대미만\":age_df.iloc[:,1:6].sum(axis=1),\n",
    "       \"50대미만\":age_df.iloc[:,7:10].sum(axis=1),\n",
    "       \"50대이상\":age_df.iloc[:,10:].sum(axis=1)}\n",
    "age_ndf = pd.DataFrame(data=dic)\n",
    "age_ndf['자치구'] = age_df['자치구']"
   ]
  },
  {
   "cell_type": "code",
   "execution_count": null,
   "id": "a4ecc73b",
   "metadata": {},
   "outputs": [],
   "source": [
    "age_ndf.sort_values('자치구',inplace=True)"
   ]
  },
  {
   "cell_type": "code",
   "execution_count": null,
   "id": "e766b064",
   "metadata": {},
   "outputs": [],
   "source": [
    "age_ndf.to_csv(\"서울시 연령대 전처리 데이터.csv\")"
   ]
  }
 ],
 "metadata": {
  "kernelspec": {
   "display_name": "Python 3 (ipykernel)",
   "language": "python",
   "name": "python3"
  },
  "language_info": {
   "codemirror_mode": {
    "name": "ipython",
    "version": 3
   },
   "file_extension": ".py",
   "mimetype": "text/x-python",
   "name": "python",
   "nbconvert_exporter": "python",
   "pygments_lexer": "ipython3",
   "version": "3.9.7"
  }
 },
 "nbformat": 4,
 "nbformat_minor": 5
}
