{
 "cells": [
  {
   "cell_type": "code",
   "execution_count": null,
   "id": "5ac72036",
   "metadata": {},
   "outputs": [],
   "source": [
    "import matplotlib\n",
    "import matplotlib.font_manager as fm\n",
    "import pandas as pd\n",
    "import numpy as np\n",
    "import seaborn as sns\n",
    "import matplotlib.pyplot as plt\n",
    "\n",
    "fm.get_fontconfig_fonts()\n",
    "# font_location = '/usr/share/fonts/truetype/nanum/NanumGothicOTF.ttf'\n",
    "font_location = r'C:\\Users\\Jo\\PYDATAexam\\font\\malgun.ttf' # For Windows\n",
    "font_name = fm.FontProperties(fname=font_location).get_name()\n",
    "matplotlib.rc('font', family=font_name)"
   ]
  },
  {
   "cell_type": "code",
   "execution_count": null,
   "id": "15db34a6",
   "metadata": {},
   "outputs": [],
   "source": [
    "import json\n",
    "import folium\n",
    "import pandas as pd\n",
    "\n",
    "#geo_path = 'data/seoul_geo.json'\n",
    "geo_path = 'seoul.geojson'\n",
    "geo_str = json.load(open(geo_path, encoding='utf-8'))"
   ]
  },
  {
   "cell_type": "code",
   "execution_count": null,
   "id": "9e7d7229",
   "metadata": {},
   "outputs": [],
   "source": [
    "map = folium.Map(location=[37.5502, 126.982], zoom_start=11,tiles='cartodbpositron')\n",
    "fmap=folium.Choropleth(geo_data = geo_str,\n",
    "               data = df,\n",
    "               columns = ['자치구', '대중교통승객수'],\n",
    "               fill_color = 'PuRd',\n",
    "               key_on='feature.properties.name').add_to(map)\n",
    "fmap.geojson.zoom_on_click = False\n",
    "fmap.geojson.add_child(\n",
    "    folium.features.GeoJsonTooltip(['name'],labels=False)\n",
    ")\n",
    "display(map)"
   ]
  },
  {
   "cell_type": "code",
   "execution_count": null,
   "id": "e9cac453",
   "metadata": {},
   "outputs": [],
   "source": [
    "df = pd.read_csv(\"data/동별/자치구별/서울시 자치구별 대중교통 총 승차 승객수.csv\")\n",
    "df = df[['자치구','승객수']]\n",
    "df.columns = ['자치구','대중교통승객수']\n",
    "df.head()"
   ]
  }
 ],
 "metadata": {
  "kernelspec": {
   "display_name": "Python 3 (ipykernel)",
   "language": "python",
   "name": "python3"
  },
  "language_info": {
   "codemirror_mode": {
    "name": "ipython",
    "version": 3
   },
   "file_extension": ".py",
   "mimetype": "text/x-python",
   "name": "python",
   "nbconvert_exporter": "python",
   "pygments_lexer": "ipython3",
   "version": "3.9.7"
  }
 },
 "nbformat": 4,
 "nbformat_minor": 5
}
