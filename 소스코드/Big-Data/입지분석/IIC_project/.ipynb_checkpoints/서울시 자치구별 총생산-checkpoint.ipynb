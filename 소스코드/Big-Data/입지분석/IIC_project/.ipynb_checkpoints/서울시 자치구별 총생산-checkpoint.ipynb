{
 "cells": [
  {
   "cell_type": "code",
   "execution_count": null,
   "id": "956dd198",
   "metadata": {},
   "outputs": [],
   "source": [
    "import pandas as pd\n",
    "import numpy as np\n",
    "import matplotlib.pyplot as plt\n",
    "import seaborn as sns\n",
    "import json\n",
    "import folium\n",
    "import matplotlib\n",
    "import matplotlib.font_manager as fm\n",
    "fm.get_fontconfig_fonts()\n",
    "# font_location = '/usr/share/fonts/truetype/nanum/NanumGothicOTF.ttf'\n",
    "font_location = r'C:\\Users\\Jo\\PYDATAexam\\font\\malgun.ttf' # For Windows\n",
    "font_name = fm.FontProperties(fname=font_location).get_name()\n",
    "matplotlib.rc('font', family=font_name)"
   ]
  },
  {
   "cell_type": "code",
   "execution_count": null,
   "id": "971e0d6b",
   "metadata": {},
   "outputs": [],
   "source": [
    "df = pd.read_excel(\"data/서울 열린데이터 광장/서울시 자치구별 지역내총생산.xls\")\n",
    "df.head()"
   ]
  },
  {
   "cell_type": "code",
   "execution_count": null,
   "id": "ca8b4a0e",
   "metadata": {},
   "outputs": [],
   "source": [
    "ndf = df[['자치구','지역내총생산(당해년가격)']]\n",
    "ndf.head()"
   ]
  },
  {
   "cell_type": "code",
   "execution_count": null,
   "id": "b5f99404",
   "metadata": {},
   "outputs": [],
   "source": [
    "ndf.drop(0,inplace=True)\n",
    "ndf.head()"
   ]
  },
  {
   "cell_type": "code",
   "execution_count": null,
   "id": "c80e0af1",
   "metadata": {},
   "outputs": [],
   "source": [
    "geo_path = 'seoul.geojson'\n",
    "geo_str = json.load(open(geo_path, encoding='utf-8'))"
   ]
  },
  {
   "cell_type": "code",
   "execution_count": null,
   "id": "4aab289a",
   "metadata": {},
   "outputs": [],
   "source": [
    "map = folium.Map(location=[37.5502, 126.982], zoom_start=11,tiles='cartodbpositron')\n",
    "fmap=folium.Choropleth(geo_data = geo_str,\n",
    "               data = ndf,\n",
    "               columns = ['자치구', '지역내총생산(당해년가격)'],\n",
    "               fill_color = 'PuRd',\n",
    "               key_on='feature.properties.name').add_to(map)\n",
    "fmap.geojson.zoom_on_click = False\n",
    "fmap.geojson.add_child(\n",
    "    folium.features.GeoJsonTooltip(['name'],labels=False)\n",
    ")\n",
    "display(map)"
   ]
  }
 ],
 "metadata": {
  "kernelspec": {
   "display_name": "Python 3 (ipykernel)",
   "language": "python",
   "name": "python3"
  },
  "language_info": {
   "codemirror_mode": {
    "name": "ipython",
    "version": 3
   },
   "file_extension": ".py",
   "mimetype": "text/x-python",
   "name": "python",
   "nbconvert_exporter": "python",
   "pygments_lexer": "ipython3",
   "version": "3.9.7"
  }
 },
 "nbformat": 4,
 "nbformat_minor": 5
}
