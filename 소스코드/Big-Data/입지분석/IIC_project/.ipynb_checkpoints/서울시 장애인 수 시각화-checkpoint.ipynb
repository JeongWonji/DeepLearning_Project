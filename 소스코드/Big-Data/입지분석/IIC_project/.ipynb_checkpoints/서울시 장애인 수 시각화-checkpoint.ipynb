{
 "cells": [
  {
   "cell_type": "code",
   "execution_count": null,
   "id": "d3e77970-13b5-417b-97c6-0169baeb8918",
   "metadata": {},
   "outputs": [],
   "source": [
    "import json\n",
    "import folium\n",
    "import pandas as pd\n",
    "import matplotlib.pyplot as plt\n",
    "#geo_path = 'data/seoul_geo.json'\n",
    "geo_path = 'seoul.geojson'\n",
    "geo_str = json.load(open(geo_path, encoding='utf-8'))"
   ]
  },
  {
   "cell_type": "code",
   "execution_count": null,
   "id": "c4b21501-c21a-46ab-96a4-94e96a151e24",
   "metadata": {},
   "outputs": [],
   "source": [
    "pop = pd.read_excel(\"data/서울 열린데이터 광장/서울시장애인통계(수정).xlsx\")\n",
    "pop.head()"
   ]
  },
  {
   "cell_type": "code",
   "execution_count": null,
   "id": "58fa2849-43a3-4c07-9996-0d588a7fbb25",
   "metadata": {},
   "outputs": [],
   "source": [
    "map = folium.Map(location=[37.5502, 126.982], zoom_start=11,tiles='cartodbpositron')\n",
    "fmap=folium.Choropleth(geo_data = geo_str,\n",
    "               data = pop,\n",
    "               columns = ['자치구', '합계'],\n",
    "               fill_color = 'PuRd',\n",
    "               key_on='feature.properties.name').add_to(map)\n",
    "fmap.geojson.zoom_on_click = False\n",
    "fmap.geojson.add_child(\n",
    "    folium.features.GeoJsonTooltip(['name'],labels=False)\n",
    ")\n",
    "display(map)"
   ]
  },
  {
   "cell_type": "code",
   "execution_count": null,
   "id": "fdc4e661-bd7a-45ce-8271-5614b0d5e743",
   "metadata": {},
   "outputs": [],
   "source": [
    "map.save('서울시 장애인 시각화.html')"
   ]
  },
  {
   "cell_type": "code",
   "execution_count": null,
   "id": "d7378443-7c2b-482f-a1ea-b4fe12317300",
   "metadata": {},
   "outputs": [],
   "source": [
    "import matplotlib\n",
    "import matplotlib.font_manager as fm\n",
    "fm.get_fontconfig_fonts()\n",
    "# font_location = '/usr/share/fonts/truetype/nanum/NanumGothicOTF.ttf'\n",
    "font_location = r'C:\\Users\\Jo\\PYDATAexam\\font\\malgun.ttf' # For Windows\n",
    "font_name = fm.FontProperties(fname=font_location).get_name()\n",
    "matplotlib.rc('font', family=font_name)"
   ]
  },
  {
   "cell_type": "code",
   "execution_count": null,
   "id": "64920ff3-5995-48ef-b9eb-8f7432394750",
   "metadata": {},
   "outputs": [],
   "source": [
    "df = pd.read_excel(\"data/서울 열린데이터 광장/서울시장애인통계(수정).xlsx\")\n",
    "\n",
    "df.sort_values('합계',ascending=False).plot.bar(x='자치구',y='합계',figsize=(10,7.5),color='royalblue')\n",
    "plt.axhline(y=9770.48, color='r', linewidth=1)\n",
    "plt.text(27,9770.48, '평균 장애인 수', fontsize=13, va='center', ha='center', backgroundcolor='w',color='r')\n",
    "plt.xticks(fontsize=16)\n",
    "plt.yticks(fontsize=16)"
   ]
  },
  {
   "cell_type": "code",
   "execution_count": null,
   "id": "a86c4903-8022-4e72-862d-b370f69060ac",
   "metadata": {},
   "outputs": [],
   "source": [
    "df['합계'].mean()"
   ]
  }
 ],
 "metadata": {
  "kernelspec": {
   "display_name": "pydatavenv",
   "language": "python",
   "name": "pydatavenv"
  },
  "language_info": {
   "codemirror_mode": {
    "name": "ipython",
    "version": 3
   },
   "file_extension": ".py",
   "mimetype": "text/x-python",
   "name": "python",
   "nbconvert_exporter": "python",
   "pygments_lexer": "ipython3",
   "version": "3.9.12"
  }
 },
 "nbformat": 4,
 "nbformat_minor": 5
}
