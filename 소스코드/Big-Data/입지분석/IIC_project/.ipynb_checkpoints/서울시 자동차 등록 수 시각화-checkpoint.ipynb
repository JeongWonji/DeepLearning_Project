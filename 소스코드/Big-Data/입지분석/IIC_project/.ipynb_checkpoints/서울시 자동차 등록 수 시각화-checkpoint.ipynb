{
 "cells": [
  {
   "cell_type": "code",
   "execution_count": null,
   "id": "47b61ed5-7ee7-4266-b97c-75efd8f73def",
   "metadata": {},
   "outputs": [],
   "source": [
    "import json\n",
    "import folium\n",
    "import pandas as pd\n",
    "import matplotlib.pyplot as plt\n",
    "\n",
    "#geo_path = 'data/seoul_geo.json'\n",
    "geo_path = 'seoul.geojson'\n",
    "geo_str = json.load(open(geo_path, encoding='utf-8'))"
   ]
  },
  {
   "cell_type": "code",
   "execution_count": null,
   "id": "402b77d6-6290-419d-91c0-ddbfba1f6294",
   "metadata": {},
   "outputs": [],
   "source": [
    "pop = pd.read_excel(\"data/서울 열린데이터 광장/서울시 구별 자동차 등록통계.xls\")\n",
    "pop.head()"
   ]
  },
  {
   "cell_type": "code",
   "execution_count": null,
   "id": "35ddff51-f82a-47fe-9a83-2afd78a49981",
   "metadata": {},
   "outputs": [],
   "source": [
    "map = folium.Map(location=[37.5502, 126.982], zoom_start=11,tiles='cartodbpositron')\n",
    "fmap=folium.Choropleth(geo_data = geo_str,\n",
    "               data = pop,\n",
    "               columns = ['자치구', '소계'],\n",
    "               fill_color = 'BuPu',\n",
    "               key_on='feature.properties.name').add_to(map)\n",
    "fmap.geojson.zoom_on_click = False\n",
    "fmap.geojson.add_child(\n",
    "    folium.features.GeoJsonTooltip(['name'],labels=False)\n",
    ")\n",
    "display(map)"
   ]
  },
  {
   "cell_type": "code",
   "execution_count": null,
   "id": "451cbd8e-96b0-47b1-8a15-b28b21c5fe0a",
   "metadata": {},
   "outputs": [],
   "source": [
    "import matplotlib\n",
    "import matplotlib.font_manager as fm\n",
    "fm.get_fontconfig_fonts()\n",
    "# font_location = '/usr/share/fonts/truetype/nanum/NanumGothicOTF.ttf'\n",
    "font_location = r'C:\\Users\\Jo\\PYDATAexam\\font\\malgun.ttf' # For Windows\n",
    "font_name = fm.FontProperties(fname=font_location).get_name()\n",
    "matplotlib.rc('font', family=font_name)"
   ]
  },
  {
   "cell_type": "code",
   "execution_count": null,
   "id": "c745df04-e5ab-4baf-9537-f23824a04769",
   "metadata": {},
   "outputs": [],
   "source": [
    "df.sort_values('소계',ascending=False).plot.bar(x='자치구',y='소계',figsize=(10,7.5),color='royalblue')\n",
    "plt.axhline(y=127211.96, color='r', linewidth=1)\n",
    "plt.text(27.5, 127211.96, '평균 자동차 등록 수', fontsize=13, va='center', ha='center', backgroundcolor='w',color='r')\n",
    "plt.xticks(fontsize=16)\n",
    "plt.yticks(fontsize=16)"
   ]
  },
  {
   "cell_type": "code",
   "execution_count": null,
   "id": "8116eec8-0ee2-467e-96cf-83fee5e9a4e3",
   "metadata": {},
   "outputs": [],
   "source": [
    "df['소계'].mean()"
   ]
  }
 ],
 "metadata": {
  "kernelspec": {
   "display_name": "pydatavenv",
   "language": "python",
   "name": "pydatavenv"
  },
  "language_info": {
   "codemirror_mode": {
    "name": "ipython",
    "version": 3
   },
   "file_extension": ".py",
   "mimetype": "text/x-python",
   "name": "python",
   "nbconvert_exporter": "python",
   "pygments_lexer": "ipython3",
   "version": "3.9.12"
  }
 },
 "nbformat": 4,
 "nbformat_minor": 5
}
