{
 "cells": [
  {
   "cell_type": "code",
   "execution_count": null,
   "id": "943bc8e9-d13a-43f8-80f7-938cbe9a5b9e",
   "metadata": {},
   "outputs": [],
   "source": [
    "import matplotlib\n",
    "import matplotlib.font_manager as fm\n",
    "import pandas as pd\n",
    "import numpy as np\n",
    "import seaborn as sns\n",
    "import matplotlib.pyplot as plt\n",
    "\n",
    "fm.get_fontconfig_fonts()\n",
    "# font_location = '/usr/share/fonts/truetype/nanum/NanumGothicOTF.ttf'\n",
    "font_location = r'C:\\Users\\Jo\\PYDATAexam\\font\\malgun.ttf' # For Windows\n",
    "font_name = fm.FontProperties(fname=font_location).get_name()\n",
    "matplotlib.rc('font', family=font_name)"
   ]
  },
  {
   "cell_type": "code",
   "execution_count": null,
   "id": "6624ce36-642f-469d-800c-a8b62be66302",
   "metadata": {},
   "outputs": [],
   "source": [
    "pd.options.display.float_format = '{:.5f}'.format\n",
    "df = pd.read_csv(\"data/자치구단위 서울생활인구 일별 집계.csv\")"
   ]
  },
  {
   "cell_type": "code",
   "execution_count": null,
   "id": "19d02ef0-f284-4981-ac90-c5cf2abae231",
   "metadata": {},
   "outputs": [],
   "source": [
    "df.drop(0,inplace=True)"
   ]
  },
  {
   "cell_type": "code",
   "execution_count": null,
   "id": "7a7e3ee3-f8d9-4227-a49e-d8c91db23315",
   "metadata": {},
   "outputs": [],
   "source": [
    "ndf = df.groupby('시군구명')['총생활인구수'].mean()"
   ]
  },
  {
   "cell_type": "code",
   "execution_count": null,
   "id": "e790c646-4835-4be7-80df-5e486d28d687",
   "metadata": {},
   "outputs": [],
   "source": [
    "ndf.drop('서울시',inplace=True)"
   ]
  },
  {
   "cell_type": "code",
   "execution_count": null,
   "id": "6c66d293-0fa6-44e3-afab-d4a141efc76f",
   "metadata": {},
   "outputs": [],
   "source": [
    "dic = {'자치구':ndf.index.tolist(),'생활인구수':ndf.values.tolist()}\n",
    "ndf = pd.DataFrame(dic)"
   ]
  },
  {
   "cell_type": "code",
   "execution_count": null,
   "id": "f075fd7e",
   "metadata": {},
   "outputs": [],
   "source": [
    "ndf.to_csv(\"서울시 생활인구수.csv\")"
   ]
  },
  {
   "cell_type": "code",
   "execution_count": null,
   "id": "7d49de40-b0a4-48bd-89ae-0352e03faf0e",
   "metadata": {},
   "outputs": [],
   "source": [
    "ndf['생활인구수'].mean()"
   ]
  },
  {
   "cell_type": "code",
   "execution_count": null,
   "id": "f4a7b0f2-748e-4552-bbc9-c42315c4a4ab",
   "metadata": {},
   "outputs": [],
   "source": [
    "ndf.sort_values('생활인구수',ascending=False).plot.bar(x='자치구',y='생활인구수',figsize=(10,7.5),color='royalblue')\n",
    "plt.axhline(y=444079.6287465893, color='r', linewidth=1)\n",
    "plt.text(26.5,444079.6287465893, '생활인구수', fontsize=13, va='center', ha='center', backgroundcolor='w',color='r')\n",
    "plt.xticks(fontsize=16)\n",
    "plt.yticks(fontsize=16)"
   ]
  }
 ],
 "metadata": {
  "kernelspec": {
   "display_name": "pydatavenv",
   "language": "python",
   "name": "pydatavenv"
  },
  "language_info": {
   "codemirror_mode": {
    "name": "ipython",
    "version": 3
   },
   "file_extension": ".py",
   "mimetype": "text/x-python",
   "name": "python",
   "nbconvert_exporter": "python",
   "pygments_lexer": "ipython3",
   "version": "3.9.12"
  }
 },
 "nbformat": 4,
 "nbformat_minor": 5
}
