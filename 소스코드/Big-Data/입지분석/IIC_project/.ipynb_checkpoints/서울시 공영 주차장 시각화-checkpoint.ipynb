{
 "cells": [
  {
   "cell_type": "code",
   "execution_count": null,
   "id": "a7849d16-f194-479d-876d-eb65bbd5d740",
   "metadata": {},
   "outputs": [],
   "source": [
    "import json\n",
    "import folium\n",
    "import pandas as pd\n",
    "\n",
    "#geo_path = 'data/seoul_geo.json'\n",
    "geo_path = 'seoul.geojson'\n",
    "geo_str = json.load(open(geo_path, encoding='utf-8'))"
   ]
  },
  {
   "cell_type": "code",
   "execution_count": null,
   "id": "035a82a4-8371-4cc9-9c18-4abe17eb26e2",
   "metadata": {},
   "outputs": [],
   "source": [
    "pop = pd.read_excel(\"data/서울 열린데이터 광장/서울시주차장현황(구별).xls\")\n",
    "pop.head()"
   ]
  },
  {
   "cell_type": "code",
   "execution_count": null,
   "id": "90b75467-59a7-4328-b5f2-e9e394f534f2",
   "metadata": {},
   "outputs": [],
   "source": [
    "map = folium.Map(location=[37.5502, 126.982], zoom_start=11,tiles='cartodbpositron')\n",
    "fmap=folium.Choropleth(geo_data = geo_str,\n",
    "               data = pop,\n",
    "               columns = ['자치구', '개소'],\n",
    "               fill_color = 'PuRd',\n",
    "               key_on='feature.properties.name').add_to(map)\n",
    "fmap.geojson.zoom_on_click = False\n",
    "fmap.geojson.add_child(\n",
    "    folium.features.GeoJsonTooltip(['name'],labels=False)\n",
    ")\n",
    "display(map)"
   ]
  },
  {
   "cell_type": "code",
   "execution_count": null,
   "id": "205e0d93-6f9e-442a-98ff-377932748d7b",
   "metadata": {},
   "outputs": [],
   "source": [
    "import matplotlib\n",
    "import matplotlib.font_manager as fm\n",
    "fm.get_fontconfig_fonts()\n",
    "# font_location = '/usr/share/fonts/truetype/nanum/NanumGothicOTF.ttf'\n",
    "font_location = r'C:\\Users\\Jo\\PYDATAexam\\font\\malgun.ttf' # For Windows\n",
    "font_name = fm.FontProperties(fname=font_location).get_name()\n",
    "matplotlib.rc('font', family=font_name)"
   ]
  },
  {
   "cell_type": "code",
   "execution_count": null,
   "id": "de61d5da-2656-4f64-b79f-20f7490d57b8",
   "metadata": {},
   "outputs": [],
   "source": [
    "import json\n",
    "import folium\n",
    "import pandas as pd\n",
    "import matplotlib.pyplot as plt"
   ]
  },
  {
   "cell_type": "code",
   "execution_count": null,
   "id": "7b59cf12-be91-47b0-adea-88308e72f8d4",
   "metadata": {},
   "outputs": [],
   "source": [
    "df = pd.read_excel(\"data/서울 열린데이터 광장/서울시 주차장 확보율.xls\")\n",
    "df.head()"
   ]
  },
  {
   "cell_type": "code",
   "execution_count": null,
   "id": "05d9278f-f199-496d-a8d9-e912351efa86",
   "metadata": {},
   "outputs": [],
   "source": [
    "df.drop(0,inplace=True)"
   ]
  },
  {
   "cell_type": "code",
   "execution_count": null,
   "id": "b5428bdb-9afe-4dd0-b102-f4e2e839c91e",
   "metadata": {},
   "outputs": [],
   "source": [
    "df['주차면수'].mean()"
   ]
  },
  {
   "cell_type": "code",
   "execution_count": null,
   "id": "8da58387-1166-431e-bf39-1c7319d1a1f5",
   "metadata": {},
   "outputs": [],
   "source": [
    "df.sort_values('주차면수',ascending=False).plot.bar(x='자치구',y='주차면수',figsize=(10,7.5),color='royalblue')\n",
    "plt.axhline(y=174180.64, color='r', linewidth=1)\n",
    "plt.text(27,174180.64, '주차면수', fontsize=13, va='center', ha='center', backgroundcolor='w',color='r')\n",
    "plt.xticks(fontsize=16)\n",
    "plt.yticks(fontsize=16)"
   ]
  },
  {
   "cell_type": "code",
   "execution_count": null,
   "id": "1546c6ff-40ed-40be-ab84-00d1708d5dba",
   "metadata": {},
   "outputs": [],
   "source": [
    "df['소계'].mean()"
   ]
  },
  {
   "cell_type": "code",
   "execution_count": null,
   "id": "193093ba-3678-47cb-8a2a-5d24ed291cb1",
   "metadata": {},
   "outputs": [],
   "source": [
    "import pandas as pd\n",
    "parking_df = pd.read_csv('data/서울 열린데이터 광장/서울시 공영주차장 안내 정보.csv')\n",
    "parking_df.rename(columns = {'주차장 위치 좌표 위도':'x', '주차장 위치 좌표 경도':'y'}, inplace = True)\n",
    "parking_df.shape"
   ]
  },
  {
   "cell_type": "code",
   "execution_count": null,
   "id": "298679b1-40f7-4250-80df-24cfbb2e7eab",
   "metadata": {},
   "outputs": [],
   "source": [
    "gangnam_parking_df = parking_df[parking_df['주소'].str.contains('강남구')]"
   ]
  },
  {
   "cell_type": "code",
   "execution_count": null,
   "id": "e4137e78",
   "metadata": {},
   "outputs": [],
   "source": [
    "gangnam_parking_df.shape"
   ]
  },
  {
   "cell_type": "code",
   "execution_count": null,
   "id": "dc4e3ebb-8f95-4eb6-9ebc-a6b637c2d665",
   "metadata": {},
   "outputs": [],
   "source": [
    "gangnam_parking_df[['x','y']].isnull().sum()"
   ]
  },
  {
   "cell_type": "code",
   "execution_count": null,
   "id": "6f0d4a36-4f16-45fe-ba10-db3b26dc2b3d",
   "metadata": {},
   "outputs": [],
   "source": [
    "#Null행 제거\n",
    "gangnam_parking_df = gangnam_parking_df[['x','y']].dropna(axis=0)"
   ]
  },
  {
   "cell_type": "code",
   "execution_count": null,
   "id": "cb814dce-7667-44fe-afe3-c209c720a286",
   "metadata": {},
   "outputs": [],
   "source": [
    "import seaborn as sns\n",
    "import numpy as np\n",
    "import matplotlib.pyplot as plt\n",
    "import folium\n",
    "import json\n",
    "\n",
    "geo_path = 'seoul.geojson'\n",
    "geo_str = json.load(open(geo_path, encoding='utf-8'))\n",
    "\n",
    "map = folium.Map(location=[37.5502, 126.982], zoom_start=11,tiles='cartodbpositron')\n",
    "fmap=folium.Choropleth(geo_data = geo_str,\n",
    "               fill_color = '#D2E3F9',\n",
    "               key_on='feature.properties.name').add_to(map)\n",
    "fmap.geojson.zoom_on_click = False\n",
    "fmap.geojson.add_child(\n",
    "    folium.features.GeoJsonTooltip(['name'],labels=False)\n",
    ")\n",
    "\n",
    "for lat, lng in zip(gangnam_parking_df.x, gangnam_parking_df.y):\n",
    "    folium.CircleMarker([lat, lng],\n",
    "                        radius=3,         # 원의 반지름\n",
    "                        color='brown',         # 원의 둘레 색상\n",
    "                        weight=0.1,\n",
    "                        fill=True,\n",
    "                        fill_color='red',    # 원을 채우는 색\n",
    "                        fill_opacity=0.5, # 투명도    \n",
    "    ).add_to(map)"
   ]
  },
  {
   "cell_type": "code",
   "execution_count": null,
   "id": "acd25bab-9b55-4137-a58d-82228e956c94",
   "metadata": {},
   "outputs": [],
   "source": [
    "display(map)"
   ]
  }
 ],
 "metadata": {
  "kernelspec": {
   "display_name": "pydatavenv",
   "language": "python",
   "name": "pydatavenv"
  },
  "language_info": {
   "codemirror_mode": {
    "name": "ipython",
    "version": 3
   },
   "file_extension": ".py",
   "mimetype": "text/x-python",
   "name": "python",
   "nbconvert_exporter": "python",
   "pygments_lexer": "ipython3",
   "version": "3.9.12"
  }
 },
 "nbformat": 4,
 "nbformat_minor": 5
}
