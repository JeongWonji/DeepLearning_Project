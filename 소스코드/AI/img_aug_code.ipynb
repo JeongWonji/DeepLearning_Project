{
 "cells": [
  {
   "cell_type": "code",
   "execution_count": 1,
   "id": "e8997477",
   "metadata": {
    "id": "e8997477",
    "outputId": "2d814da1-3be9-4e61-941c-8c93271b0844"
   },
   "outputs": [
    {
     "data": {
      "text/plain": [
       "'/home/lab34'"
      ]
     },
     "execution_count": 1,
     "metadata": {},
     "output_type": "execute_result"
    }
   ],
   "source": [
    "%pwd"
   ]
  },
  {
   "cell_type": "code",
   "execution_count": 2,
   "id": "50127576",
   "metadata": {
    "id": "50127576"
   },
   "outputs": [],
   "source": [
    "from PIL import Image, ImageEnhance, ImageFilter\n",
    "import numpy as np\n",
    "import os\n",
    "import Augmentor\n",
    "img_lst = os.listdir('/home/lab34/yolov5/dataset_reverse/images')                # 작업할 이미지 dir list"
   ]
  },
  {
   "cell_type": "markdown",
   "id": "fe17b678",
   "metadata": {
    "id": "fe17b678"
   },
   "source": [
    "### Brightness (밝기 조정)"
   ]
  },
  {
   "cell_type": "code",
   "execution_count": null,
   "id": "187edf5a",
   "metadata": {
    "id": "187edf5a"
   },
   "outputs": [],
   "source": [
    "for i in img_lst:\n",
    "    f_name = i.filename\n",
    "    img = Image.open(f_name)\n",
    "    file_nm = f_name.split('/')[-1]\n",
    "    img_darked  = ImageEnhance.Brightness(img).enhance(.4)\n",
    "    img_darked.save('image_data/images/dark_'+file_nm)"
   ]
  },
  {
   "cell_type": "code",
   "execution_count": null,
   "id": "f65ecbf8",
   "metadata": {
    "id": "f65ecbf8"
   },
   "outputs": [],
   "source": [
    "img.filename\n",
    "img.show()"
   ]
  },
  {
   "cell_type": "markdown",
   "id": "d2cf752d",
   "metadata": {
    "id": "d2cf752d"
   },
   "source": [
    "### color balance (채도)\n",
    "- 1: original image\n",
    "- 0: An enhancement factor of 0.0 gives a black and white image"
   ]
  },
  {
   "cell_type": "code",
   "execution_count": 6,
   "id": "a377e5ec",
   "metadata": {
    "id": "a377e5ec"
   },
   "outputs": [],
   "source": [
    "img = Image.open('/home/lab34/license_plate_image_raw/test-image2.jpg')"
   ]
  },
  {
   "cell_type": "code",
   "execution_count": 4,
   "id": "6b5af683",
   "metadata": {
    "id": "6b5af683"
   },
   "outputs": [
    {
     "name": "stderr",
     "output_type": "stream",
     "text": [
      "Error: no \"view\" rule for type \"image/png\" passed its test case\n",
      "       (for more information, add \"--debug=1\" on the command line)\n",
      "/usr/bin/xdg-open: 851: /usr/bin/xdg-open: www-browser: not found\n",
      "/usr/bin/xdg-open: 851: /usr/bin/xdg-open: links2: not found\n",
      "/usr/bin/xdg-open: 851: /usr/bin/xdg-open: elinks: not found\n",
      "/usr/bin/xdg-open: 851: /usr/bin/xdg-open: links: not found\n",
      "/usr/bin/xdg-open: 851: /usr/bin/xdg-open: lynx: not found\n",
      "/usr/bin/xdg-open: 851: /usr/bin/xdg-open: w3m: not found\n",
      "xdg-open: no method available for opening '/tmp/tmpqc3k0fa0.PNG'\n"
     ]
    }
   ],
   "source": [
    "img1 = ImageEnhance.Color(img).enhance(0)\n",
    "img1.show()"
   ]
  },
  {
   "cell_type": "code",
   "execution_count": null,
   "id": "fdfb5314",
   "metadata": {
    "executionInfo": {
     "elapsed": 776,
     "status": "aborted",
     "timestamp": 1654690620155,
     "user": {
      "displayName": "YS O",
      "userId": "11274955894973386289"
     },
     "user_tz": -540
    },
    "id": "fdfb5314"
   },
   "outputs": [],
   "source": [
    "ImageEnhance.Color(img).enhance(3)"
   ]
  },
  {
   "cell_type": "markdown",
   "id": "763c1a32",
   "metadata": {
    "id": "763c1a32"
   },
   "source": [
    "### Contrast(대비)\n",
    "- 1: original image"
   ]
  },
  {
   "cell_type": "code",
   "execution_count": 7,
   "id": "0ad0c77d",
   "metadata": {
    "id": "0ad0c77d"
   },
   "outputs": [
    {
     "name": "stderr",
     "output_type": "stream",
     "text": [
      "Error: no \"view\" rule for type \"image/png\" passed its test case\n",
      "       (for more information, add \"--debug=1\" on the command line)\n",
      "/usr/bin/xdg-open: 851: /usr/bin/xdg-open: www-browser: not found\n",
      "/usr/bin/xdg-open: 851: /usr/bin/xdg-open: links2: not found\n",
      "/usr/bin/xdg-open: 851: /usr/bin/xdg-open: elinks: not found\n",
      "/usr/bin/xdg-open: 851: /usr/bin/xdg-open: links: not found\n",
      "/usr/bin/xdg-open: 851: /usr/bin/xdg-open: lynx: not found\n",
      "/usr/bin/xdg-open: 851: /usr/bin/xdg-open: w3m: not found\n",
      "xdg-open: no method available for opening '/tmp/tmp7sqa1h12.PNG'\n"
     ]
    }
   ],
   "source": [
    "img2 = ImageEnhance.Contrast(img).enhance(.8)\n",
    "img2.show()"
   ]
  },
  {
   "cell_type": "code",
   "execution_count": null,
   "id": "26649aa5",
   "metadata": {
    "executionInfo": {
     "elapsed": 773,
     "status": "aborted",
     "timestamp": 1654690620152,
     "user": {
      "displayName": "YS O",
      "userId": "11274955894973386289"
     },
     "user_tz": -540
    },
    "id": "26649aa5"
   },
   "outputs": [],
   "source": [
    "ImageEnhance.Contrast(img).enhance(.5)"
   ]
  },
  {
   "cell_type": "markdown",
   "id": "d0d3192a",
   "metadata": {
    "id": "d0d3192a"
   },
   "source": [
    "### Sharpness (선예도)\n",
    "- 0.0 : a blurred image\n",
    "- 1.0 : the original image\n",
    "- 2.0 : a sharpened image."
   ]
  },
  {
   "cell_type": "code",
   "execution_count": null,
   "id": "61a6932b",
   "metadata": {
    "id": "61a6932b"
   },
   "outputs": [],
   "source": [
    "img3 = ImageEnhance.Sharpness(img).enhance(0)\n",
    "img3.show()"
   ]
  },
  {
   "cell_type": "markdown",
   "id": "84355132",
   "metadata": {
    "id": "84355132"
   },
   "source": [
    "### 이미지 필터링"
   ]
  },
  {
   "cell_type": "code",
   "execution_count": null,
   "id": "efdb7a96",
   "metadata": {
    "id": "efdb7a96"
   },
   "outputs": [],
   "source": [
    "filter_list = [ImageFilter.BLUR, ImageFilter.CONTOUR, ImageFilter.DETAIL,\n",
    "               ImageFilter.EDGE_ENHANCE, ImageFilter.EDGE_ENHANCE_MORE, ImageFilter.EMBOSS, ImageFilter.FIND_EDGES,\n",
    "               ImageFilter.SHARPEN, ImageFilter.SMOOTH, ImageFilter.SMOOTH_MORE]\n",
    "\n",
    "for i in range(len(filter_list)):\n",
    "    filter_img = img.filter(filter_list[i])\n",
    "    #filter_img.show()\n",
    "    filter_img.save(\"image_filtering/filter_img_{}.jpg\".format(i))"
   ]
  },
  {
   "cell_type": "code",
   "execution_count": 1,
   "id": "221774b4",
   "metadata": {
    "colab": {
     "base_uri": "https://localhost:8080/",
     "height": 173
    },
    "executionInfo": {
     "elapsed": 783,
     "status": "error",
     "timestamp": 1654690620158,
     "user": {
      "displayName": "YS O",
      "userId": "11274955894973386289"
     },
     "user_tz": -540
    },
    "id": "221774b4",
    "outputId": "3e32a84a-c7fe-4a66-81ca-1b46bc61d082",
    "scrolled": true
   },
   "outputs": [
    {
     "ename": "NameError",
     "evalue": "ignored",
     "output_type": "error",
     "traceback": [
      "\u001b[0;31m---------------------------------------------------------------------------\u001b[0m",
      "\u001b[0;31mNameError\u001b[0m                                 Traceback (most recent call last)",
      "\u001b[0;32m<ipython-input-1-5b8de57a2162>\u001b[0m in \u001b[0;36m<module>\u001b[0;34m()\u001b[0m\n\u001b[0;32m----> 1\u001b[0;31m \u001b[0mImageEnhance\u001b[0m\u001b[0;34m.\u001b[0m\u001b[0mBrightness\u001b[0m\u001b[0;34m(\u001b[0m\u001b[0mimg\u001b[0m\u001b[0;34m)\u001b[0m\u001b[0;34m.\u001b[0m\u001b[0menhance\u001b[0m\u001b[0;34m(\u001b[0m\u001b[0;36m3\u001b[0m\u001b[0;34m)\u001b[0m\u001b[0;34m\u001b[0m\u001b[0;34m\u001b[0m\u001b[0m\n\u001b[0m",
      "\u001b[0;31mNameError\u001b[0m: name 'ImageEnhance' is not defined"
     ]
    }
   ],
   "source": [
    "ImageEnhance.Brightness(img).enhance(3)"
   ]
  },
  {
   "cell_type": "code",
   "execution_count": 11,
   "id": "e86a3ce9",
   "metadata": {
    "id": "e86a3ce9"
   },
   "outputs": [
    {
     "name": "stdout",
     "output_type": "stream",
     "text": [
      "/home/lab34\r\n"
     ]
    }
   ],
   "source": [
    "!pwd"
   ]
  },
  {
   "cell_type": "code",
   "execution_count": 5,
   "id": "8169bda6",
   "metadata": {},
   "outputs": [
    {
     "name": "stdout",
     "output_type": "stream",
     "text": [
      "4220\n"
     ]
    }
   ],
   "source": [
    "print(len(img_lst))"
   ]
  },
  {
   "cell_type": "markdown",
   "id": "50fc5a5d",
   "metadata": {
    "id": "50fc5a5d"
   },
   "source": [
    "### 명도, 채도, 대비 조정 (random)\n",
    "\n",
    "- 명도, 채도, 대비 각각의 경우 0,1 랜덤추출로 경우의 수 구분\n",
    "- enhance 값의 경우, 리스트화한 후 랜덤추출로 진행\n",
    "- 각각의 case 가 달라질 수 있으므로 변수 하나로 통칭 없이 각자 적용"
   ]
  },
  {
   "cell_type": "code",
   "execution_count": 1,
   "id": "1752905f",
   "metadata": {},
   "outputs": [],
   "source": [
    "from PIL import Image, ImageEnhance, ImageFilter\n",
    "import numpy as np\n",
    "import os\n",
    "import Augmentor\n",
    "img_lst = os.listdir('/home/lab34/yolov5/final_dataset/images')    "
   ]
  },
  {
   "cell_type": "code",
   "execution_count": 6,
   "id": "da785b5a",
   "metadata": {
    "id": "da785b5a",
    "scrolled": true
   },
   "outputs": [],
   "source": [
    "img_lst = os.listdir('/home/lab34/yolov5/final_dataset/images')  # image dir 변경시 해당 경로 수정\n",
    "img_lst = [file for file in img_lst if file.endswith(\".jpg\") or file.endswith(\".JPG\")]"
   ]
  },
  {
   "cell_type": "code",
   "execution_count": 7,
   "id": "732a885c",
   "metadata": {
    "id": "732a885c"
   },
   "outputs": [],
   "source": [
    "for i in img_lst:\n",
    "#     f_name = i.filename\n",
    "    img = Image.open('/home/lab34/yolov5/final_dataset/images/'+i)\n",
    "#     file_nm = f_name.split('/')[-1]\n",
    "    onoff_chk = np.random.choice([0,1], 3)\n",
    "    if onoff_chk[0] :   # 명도 조절 여부 check\n",
    "        img  = ImageEnhance.Brightness(img).enhance(np.random.choice(np.arange(.1, 3, .2)).round(3))\n",
    "    if onoff_chk[1] :   # 채도 조절 여부 check\n",
    "        img  = ImageEnhance.Color(img).enhance(np.random.choice(np.arange(.1, 3, .2)).round(3))\n",
    "    if onoff_chk[2] :   # 대비 조절 여부 check\n",
    "        img  = ImageEnhance.Contrast(img).enhance(np.random.choice(np.arange(.1, 3, .2)).round(3))\n",
    "    img.save('/home/lab34/yolov5/final_dataset/output_images/'+i)"
   ]
  },
  {
   "cell_type": "code",
   "execution_count": null,
   "id": "1895ca15",
   "metadata": {
    "id": "1895ca15"
   },
   "outputs": [],
   "source": []
  },
  {
   "cell_type": "code",
   "execution_count": null,
   "id": "2c807b0e",
   "metadata": {
    "id": "2c807b0e"
   },
   "outputs": [],
   "source": []
  },
  {
   "cell_type": "code",
   "execution_count": null,
   "id": "a994562f",
   "metadata": {
    "id": "a994562f"
   },
   "outputs": [],
   "source": []
  }
 ],
 "metadata": {
  "colab": {
   "name": "img_aug_code.ipynb",
   "provenance": []
  },
  "kernelspec": {
   "display_name": "Python 3 (ipykernel)",
   "language": "python",
   "name": "python3"
  },
  "language_info": {
   "codemirror_mode": {
    "name": "ipython",
    "version": 3
   },
   "file_extension": ".py",
   "mimetype": "text/x-python",
   "name": "python",
   "nbconvert_exporter": "python",
   "pygments_lexer": "ipython3",
   "version": "3.9.7"
  }
 },
 "nbformat": 4,
 "nbformat_minor": 5
}
